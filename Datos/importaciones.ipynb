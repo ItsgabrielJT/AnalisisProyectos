{
 "cells": [
  {
   "cell_type": "code",
   "execution_count": 1,
   "metadata": {},
   "outputs": [],
   "source": [
    "from BDDs.Couch import introducir_csv\n",
    "\n",
    "introducir_csv('./Covid/data_clean/covid.csv')"
   ]
  },
  {
   "cell_type": "code",
   "execution_count": null,
   "metadata": {},
   "outputs": [],
   "source": [
    "from BDDs.MySQL import introducir_mysql\n",
    "\n",
    "introducir_mysql('./Musicas/datos_limpios/songs_spotify.csv')"
   ]
  },
  {
   "cell_type": "code",
   "execution_count": 1,
   "metadata": {},
   "outputs": [],
   "source": [
    "from BDDs.SQLite import *\n",
    "\n",
    "createDB()\n",
    "creteTableVentas()\n",
    "creteTableMillonarios()\n",
    "creteTableStreamers()"
   ]
  },
  {
   "cell_type": "code",
   "execution_count": 2,
   "metadata": {},
   "outputs": [],
   "source": [
    "introducir_streamers('./Streamers/data_clean/topstreamers.csv')"
   ]
  },
  {
   "cell_type": "code",
   "execution_count": 3,
   "metadata": {},
   "outputs": [],
   "source": [
    "introducir_ventas('./Ventas/data_clean/amazon.csv')"
   ]
  },
  {
   "cell_type": "code",
   "execution_count": 4,
   "metadata": {},
   "outputs": [],
   "source": [
    "introducir_billonarios('./Millonarios/data_clean/billonarios.csv')"
   ]
  },
  {
   "cell_type": "code",
   "execution_count": 1,
   "metadata": {},
   "outputs": [],
   "source": [
    "from BDDs.Mongo import ejecutar_importaciones\n",
    "\n",
    "ejecutar_importaciones('./Datos.db')"
   ]
  }
 ],
 "metadata": {
  "kernelspec": {
   "display_name": "Python 3",
   "language": "python",
   "name": "python3"
  },
  "language_info": {
   "codemirror_mode": {
    "name": "ipython",
    "version": 3
   },
   "file_extension": ".py",
   "mimetype": "text/x-python",
   "name": "python",
   "nbconvert_exporter": "python",
   "pygments_lexer": "ipython3",
   "version": "3.11.1"
  },
  "orig_nbformat": 4
 },
 "nbformat": 4,
 "nbformat_minor": 2
}
