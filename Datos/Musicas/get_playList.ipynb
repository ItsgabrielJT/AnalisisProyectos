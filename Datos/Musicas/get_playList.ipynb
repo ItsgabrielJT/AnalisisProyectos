{
 "cells": [
  {
   "cell_type": "code",
   "execution_count": 13,
   "metadata": {},
   "outputs": [],
   "source": [
    "import spotipy\n",
    "from spotipy.oauth2 import SpotifyClientCredentials\n",
    "import csv"
   ]
  },
  {
   "attachments": {},
   "cell_type": "markdown",
   "metadata": {},
   "source": [
    "- Vamos a leer las credenciales que sacamos de https://developer.spotify.com/"
   ]
  },
  {
   "cell_type": "code",
   "execution_count": 14,
   "metadata": {},
   "outputs": [],
   "source": [
    "\n",
    "with open(r\"./credentials.txt\") as f:\n",
    "    [SPOTIPY_CLIENT_ID,SPOTIPY_CLIENT_SECRET] = f.read().split(\"\\n\")\n",
    "    f.close()"
   ]
  },
  {
   "attachments": {},
   "cell_type": "markdown",
   "metadata": {},
   "source": [
    "- Una vez con nuestras credenciales guardadas vamos a conectarnos con la API de Spotify"
   ]
  },
  {
   "cell_type": "code",
   "execution_count": 15,
   "metadata": {},
   "outputs": [],
   "source": [
    "\n",
    "auth_manager = SpotifyClientCredentials(client_id=SPOTIPY_CLIENT_ID,client_secret=SPOTIPY_CLIENT_SECRET)\n",
    "sp = spotipy.Spotify(auth_manager=auth_manager)"
   ]
  },
  {
   "attachments": {},
   "cell_type": "markdown",
   "metadata": {},
   "source": [
    "- Vamos a guardar el link de la playList que queramos"
   ]
  },
  {
   "cell_type": "code",
   "execution_count": 16,
   "metadata": {},
   "outputs": [],
   "source": [
    "playlist_code = input(\"Enter the Playlist Link: \\n\")\n",
    "playlist_dict = sp.playlist(playlist_code)"
   ]
  },
  {
   "attachments": {},
   "cell_type": "markdown",
   "metadata": {},
   "source": [
    "- Creamos las listas donde se guardara cada Item"
   ]
  },
  {
   "cell_type": "code",
   "execution_count": 17,
   "metadata": {},
   "outputs": [],
   "source": [
    "no_songs = playlist_dict[\"tracks\"][\"total\"]\n",
    "album_list = []\n",
    "song_list = []\n",
    "release_date_list = []\n",
    "artists_list = []\n",
    "tracks = playlist_dict[\"tracks\"]\n",
    "items = tracks[\"items\"]\n",
    "offset=0\n",
    "i=0"
   ]
  },
  {
   "attachments": {},
   "cell_type": "markdown",
   "metadata": {},
   "source": [
    "- Recorremos sobre el json que nos entrego la api y guardamos sus valores en las listas"
   ]
  },
  {
   "cell_type": "code",
   "execution_count": 18,
   "metadata": {},
   "outputs": [],
   "source": [
    "while i<no_songs:\n",
    "    song = items[i-offset][\"track\"][\"name\"]\n",
    "    album = items[i-offset][\"track\"][\"album\"][\"name\"]\n",
    "    release_date = items[i-offset][\"track\"][\"album\"][\"release_date\"]\n",
    "    artists = [k[\"name\"] for k in items[i-offset][\"track\"][\"artists\"]]\n",
    "    artists = ','.join(artists)\n",
    "    album_list.append(album)\n",
    "    song_list.append(song)\n",
    "    release_date_list.append(release_date)\n",
    "    artists_list.append(artists)\n",
    "    if (i+1)%100 == 0:\n",
    "        tracks = sp.next(tracks)\n",
    "        items = tracks[\"items\"]\n",
    "        offset = i+1\n",
    "    i+=1\n",
    "\n",
    "final_data = list(zip(song_list,artists_list,album_list,release_date_list))"
   ]
  },
  {
   "attachments": {},
   "cell_type": "markdown",
   "metadata": {},
   "source": [
    "- Finamente colocamos es una sola lista todas las canciones y las guardamis en un csv"
   ]
  },
  {
   "cell_type": "code",
   "execution_count": 19,
   "metadata": {},
   "outputs": [],
   "source": [
    "Details = [\"Name\",\"Artists\",\"Album\",\"Release Date\"]\n",
    "rows = final_data\n",
    "with open(\"./datos_originales/top_songs_spotify.csv\",'w', newline='', encoding='utf-8') as f:\n",
    "    write = csv.writer(f)\n",
    "    write.writerow(Details)\n",
    "    write.writerows(rows)\n",
    "    \n",
    "f.close()"
   ]
  }
 ],
 "metadata": {
  "kernelspec": {
   "display_name": "Python 3",
   "language": "python",
   "name": "python3"
  },
  "language_info": {
   "codemirror_mode": {
    "name": "ipython",
    "version": 3
   },
   "file_extension": ".py",
   "mimetype": "text/x-python",
   "name": "python",
   "nbconvert_exporter": "python",
   "pygments_lexer": "ipython3",
   "version": "3.11.1"
  },
  "orig_nbformat": 4
 },
 "nbformat": 4,
 "nbformat_minor": 2
}
