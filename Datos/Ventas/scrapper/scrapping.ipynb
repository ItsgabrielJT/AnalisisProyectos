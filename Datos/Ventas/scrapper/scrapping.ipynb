{
 "cells": [
  {
   "cell_type": "code",
   "execution_count": 1,
   "metadata": {},
   "outputs": [],
   "source": [
    "import csv\n",
    "from bs4 import BeautifulSoup"
   ]
  },
  {
   "cell_type": "code",
   "execution_count": 14,
   "metadata": {},
   "outputs": [],
   "source": [
    "N = 26\n",
    "\n",
    "data = list()\n",
    "\n",
    "for i in range(1, N):\n",
    "\n",
    "    html = './htmls/page' + str(i) + '.html'\n",
    "\n",
    "    with open(html, \"r\", encoding=\"utf-8\") as f:\n",
    "        html = f.read()\n",
    "\n",
    "    soup = BeautifulSoup(html, \"html.parser\")\n",
    "\n",
    "    divs = soup.find_all(\"div\", class_=\"sg-col-4-of-24 sg-col-4-of-12 s-result-item s-asin sg-col-4-of-16 AdHolder sg-col s-widget-spacing-small sg-col-4-of-20\")\n",
    "\n",
    "    with open(\"../data_original/catalogo_tablets.csv\", \"w\", newline=\"\", encoding=\"utf-8\") as f:\n",
    "        writer = csv.writer(f)\n",
    "        writer.writerow([\"Link\", \"Title\", \"Rating\", \"Price\"])\n",
    "\n",
    "        for div in divs:\n",
    "            try:\n",
    "                link = div.find(\"img\", class_=\"s-image\")[\"src\"]\n",
    "            except:\n",
    "                link = \"\"\n",
    "\n",
    "            try:\n",
    "                title = div.find(\"span\", class_=\"a-size-base-plus a-color-base a-text-normal\").text.strip()\n",
    "            except:\n",
    "                title = \"\"\n",
    "\n",
    "            try:\n",
    "                rating = div.find(\"span\", class_=\"a-icon-alt\").text.strip()\n",
    "            except:\n",
    "                rating = \"\"\n",
    "\n",
    "            try:\n",
    "                price = div.find(\"span\", class_=\"a-price-whole\").text.strip()\n",
    "            except:\n",
    "                price = \"\"\n",
    "\n",
    "            data.append([link, title, rating, price])\n",
    "           \n",
    "        for item in data:\n",
    "            writer.writerow(item)\n"
   ]
  }
 ],
 "metadata": {
  "kernelspec": {
   "display_name": "Python 3",
   "language": "python",
   "name": "python3"
  },
  "language_info": {
   "codemirror_mode": {
    "name": "ipython",
    "version": 3
   },
   "file_extension": ".py",
   "mimetype": "text/x-python",
   "name": "python",
   "nbconvert_exporter": "python",
   "pygments_lexer": "ipython3",
   "version": "3.11.1"
  },
  "orig_nbformat": 4
 },
 "nbformat": 4,
 "nbformat_minor": 2
}
